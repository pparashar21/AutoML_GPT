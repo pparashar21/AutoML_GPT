{
 "cells": [
  {
   "cell_type": "code",
   "execution_count": null,
   "metadata": {},
   "outputs": [
    {
     "name": "stderr",
     "output_type": "stream",
     "text": [
      "Matplotlib is building the font cache; this may take a moment.\n"
     ]
    }
   ],
   "source": [
    "#To develop machine learning models\n",
    "import pandas as pd\n",
    "import numpy as np\n",
    "from sklearn.svm import SVC\n",
    "from sklearn.linear_model import LogisticRegression\n",
    "from sklearn.tree import DecisionTreeClassifier\n",
    "from sklearn.model_selection import train_test_split\n",
    "from sklearn.metrics import accuracy_score\n",
    "from sklearn.metrics import confusion_matrix, classification_report\n",
    "import seaborn as sns\n",
    "from sklearn.model_selection import GridSearchCV\n",
    "\n",
    "#Vectorisation of database\n",
    "from qdrant_client import QdrantClient\n",
    "\n",
    "#Langchain framework to tune the OpenAI API to our documentation\n",
    "import langchain\n",
    "from langchain.llms import OpenAI\n",
    "from langchain.prompts import PromptTemplate\n",
    "from langchain.chains import LLMChain\n",
    "\n",
    "from dotenv import load_dotenv,find_dotenv\n",
    "\n",
    "#To help maintain and manipulate json objects\n",
    "import json\n",
    "\n",
    "#To display the conversation between the user and chatbot\n",
    "from IPython.display import display\n",
    "import ipywidgets as widgets\n",
    "\n",
    "#To manipulate the operating system\n",
    "import os\n",
    "\n",
    "#To ignore warnings\n",
    "import warnings\n",
    "warnings.filterwarnings(\"ignore\")"
   ]
  },
  {
   "cell_type": "code",
   "execution_count": 8,
   "metadata": {},
   "outputs": [],
   "source": [
    "#Defining the OpenAPI Key\n",
    "load_dotenv(find_dotenv())\n",
    "OPENAI_API_KEY: str | None = os.getenv(\"OPEN_AI_API\")\n",
    "#Defining our LLM configuration \n",
    "llm = OpenAI(model_name = \"gpt-3.5-turbo\", temperature=0, max_tokens=2000, openai_api_key=OPENAI_API_KEY)"
   ]
  },
  {
   "cell_type": "code",
   "execution_count": 9,
   "metadata": {},
   "outputs": [],
   "source": [
    "#Defining our vectorised dataset using QdrantClient\n",
    "\n",
    "client = QdrantClient(\":memory:\")\n",
    "\n",
    "def load_docs():\n",
    "    directory = './Model_documents'\n",
    "    for dirpath, dirnames, filenames in os.walk(directory):\n",
    "        for filename in filenames:\n",
    "            if filename.endswith('.txt'):\n",
    "                with open(os.path.join(dirpath, filename), 'r', encoding='utf-8') as file:\n",
    "                    documents = file.readlines()\n",
    "                documents = [doc.strip() for doc in documents]\n",
    "                client.add(collection_name=\"knowledge-base\", documents=documents)\n",
    "                \n",
    "    return 1"
   ]
  },
  {
   "cell_type": "code",
   "execution_count": 10,
   "metadata": {},
   "outputs": [],
   "source": [
    "#Function to automate model training and metrics generation\n",
    "def runner(json_file, model_file):\n",
    "    # Load parameters from JSON\n",
    "    directory = './JSONs/'\n",
    "    with open(directory+json_file, 'r') as file:\n",
    "        parameters = json.load(file)\n",
    "        \n",
    "    with open(directory+model_file, 'r') as file:\n",
    "        model_param = json.load(file)\n",
    "\n",
    "    model_name = parameters['model_name']\n",
    "    df = pd.read_csv(\"./datasets/\" + str(parameters['filename']))\n",
    "    flag = parameters['flag']\n",
    "\n",
    "    #Check for target_variable is present or not\n",
    "    target_variable = parameters.get(\"target_variable\", None)\n",
    "    if target_variable is None:\n",
    "        raise ValueError(\"Target variable not specified in the parameters.\")\n",
    "\n",
    "    X = df.drop(columns=[target_variable])\n",
    "    y = df[target_variable]\n",
    "\n",
    "    X_train, X_test, y_train, y_test = train_test_split(X, y, test_size=parameters['split'], random_state=42)\n",
    "\n",
    "    def_param = {\n",
    "      \"decision_tree\" : {\"param_dict\" : \"default_decision_tree_parameters\", \"lib_name\" : \"DecisionTreeClassifier\"},\n",
    "      \"svm\" : {\"param_dict\" : \"default_svm_parameters\", \"lib_name\" : \"SVC\"},\n",
    "      \"logistic_regression\" : {\"param_dict\" : \"default_lr_parameters\", \"lib_name\" : \"LogisticRegression\"}\n",
    "    }\n",
    "\n",
    "    params= def_param[model_name][\"param_dict\"]\n",
    "    param = model_param[params]\n",
    "    lib_name = def_param[model_name][\"lib_name\"]\n",
    "    \n",
    "    #NO hyperparameter tuning\n",
    "    if flag == 0:\n",
    "      # Merge default and user-provided parameters\n",
    "        merged_parameters = {**eval(str(param)), **parameters.get(\"param\", {})}\n",
    "      # print(merged_parameters)\n",
    "\n",
    "      # Initialize machine learning model with the merged parameters\n",
    "        model = eval(lib_name)(**merged_parameters)\n",
    "\n",
    "      # Train the model\n",
    "        model.fit(X_train, y_train)\n",
    "        para = parameters.get(\"param\", {})\n",
    "\n",
    "      # Make predictions on the test set\n",
    "        y_pred = model.predict(X_test)\n",
    "\n",
    "        acc = accuracy_score(y_test, y_pred)\n",
    "        cr = classification_report(y_test,y_pred)\n",
    "        cm = confusion_matrix(y_test, y_pred)\n",
    "\n",
    "        return_dict = {\"acc\" : acc, \"cr\" : cr, \"cm\" : cm ,\"paramters\" : str(para)}\n",
    "        return return_dict\n",
    "    \n",
    "    #Hyperparameter tuning\n",
    "    else:\n",
    "        param_grid = parameters.get(\"param\", {})\n",
    "        grid_search = GridSearchCV(eval(lib_name)(), param_grid, cv=2, scoring='accuracy')\n",
    "\n",
    "        # Fit the grid search to the data\n",
    "        grid_search.fit(X_train, y_train)\n",
    "\n",
    "        # Get the best parameters \n",
    "        best_params = grid_search.best_params_\n",
    "\n",
    "        # Use the best parameters to train the final model\n",
    "        final_model = grid_search.best_estimator_\n",
    "        \n",
    "        y_pred = final_model.predict(X_test)\n",
    "\n",
    "        acc = accuracy_score(y_test, y_pred)\n",
    "        cr = classification_report(y_test,y_pred)\n",
    "        cm = confusion_matrix(y_test, y_pred)\n",
    "\n",
    "        return_dict = {\"acc\" : acc, \"cr\" : cr, \"cm\" : cm ,\"paramters\" : str(best_params)}\n",
    "        return return_dict"
   ]
  },
  {
   "cell_type": "code",
   "execution_count": 11,
   "metadata": {},
   "outputs": [],
   "source": [
    "#Function to stip json file of excess garbage string values\n",
    "def parse_json_garbage(s):\n",
    "    start_idx = next(idx for idx, c in enumerate(s) if c in \"{[\")\n",
    "    s = s[start_idx:]\n",
    "    try:\n",
    "        return json.loads(s)\n",
    "    except json.JSONDecodeError as e:\n",
    "        return json.loads(s[:e.pos])"
   ]
  },
  {
   "cell_type": "code",
   "execution_count": 12,
   "metadata": {},
   "outputs": [],
   "source": [
    "#Define prompt template using langchain\n",
    "def rag(chat_history: list[str], question: str, n_points: int = 3) -> str:\n",
    "    results = client.query(\n",
    "        collection_name=\"knowledge-base\",\n",
    "        query_text=question,\n",
    "        limit=n_points,\n",
    "    )\n",
    "    \n",
    "    context = \"\\n\".join(r.document for r in results)\n",
    "    context = context.strip()\n",
    "    \n",
    "    # Define the prompt template with input variables\n",
    "    prompt_template = PromptTemplate(\n",
    "        input_variables=[\"question\", \"chat_history\", \"context\"],\n",
    "        template=\"\"\"\n",
    "    You are a helpful machine learning bot.\n",
    "    Answer the following question using the provided context.\n",
    "    In the beginning of the conversation user will specify which model it wants to use. return 1 when this kind of query is specified. if the model name is not specified in the beginning ask the user and then return 1. \n",
    "    If the user asks you to build a model : If the parameters are not defined by the user, ask them to specify, a sample json file that is to be to made to run\n",
    "    the model looks like this:\n",
    "    [\n",
    "    \"filename\" : \"<filename>.csv\",\n",
    "    \"model_name\" : \"<model_name>\",\n",
    "    \"param\": [\n",
    "        \"<param name>\": \"<value>\"\n",
    "    ],\n",
    "    \"target_variable\": \"<target_name>\",\n",
    "    \"split\" : 0.2,\n",
    "    \"flag\" : 0/1\n",
    "    ] \n",
    "    \n",
    "    Please note that \"flag\" must be 0 by default, unless the user wants to perform \"hyperparameter tuning\" or when the user provides multiple values for some parameters (i.e, when values > 1 for a parameter), only then must be changed to 1.\n",
    "    Also keep in mind that if the user wants to do hyperparameter tuning, i.e., flag = 1; store all the values for a parameter in a python list [], for example:\n",
    "    \n",
    "    \"param\": [\n",
    "        \"<param name>\": [<value1>, <value2>, <value3>]\n",
    "    ]\n",
    "    \n",
    "    This is not the default json. this is just a format, change all the names here according to the latest chat. replace [] with curly brackets.\n",
    "    if everything is mentioned return the json file\n",
    "    if user says build or run or train the model or something of that sort stating to run the given json, return -1\n",
    "    if the user asks for decision tree as model name input in the json file as \"decsion_tree\"\n",
    "    if the user asks for lr as model name input it in the json file as \"logistic_regression\"\n",
    "    if the user asks for support vector machine as model name  in the the input,portray it in the json file as \"svm\"\n",
    "    Always make sure you are checking this first before giving any response. \n",
    "    Also refer to the chat history while answering a question. consider info given by the assisstant only as truth.\n",
    "    The user could ask you two types of questions - one regarding the machine learning parameters and their acceptable values or anything related to the architecture of the machine learning model. The other set of the questions would be related to creating a json file for given parameter values and when user asks you to run the model. When asked direct questions about json building and model running remember answers in the chat history and when asked factual question about the model architecture refer to the context documentation. \n",
    "    If you have limited information on something, state is and then answer \"this is all I know.\" irrespective of how much their word count expectation is.\n",
    "    Also keep in mind that the user can specify multiple model configurations and ask you to store those model parameters and their performance. \n",
    "    For example, a user may say that “design model 1 for decision tree with criterion = entropy, max_depth = 10”, after evaluating performance of model 1 it may provide new parameters like “design model 2 for decision tree with criterion = mini, max_depth = 5”. In such a case, the user may ask you to compare model 1 and model 2 performances which you must do. \n",
    "    \n",
    "\n",
    "    Question: {question}\n",
    "    CHAT HISTORY : {chat_history}\n",
    "    Context: {context}\n",
    "\n",
    "    Answer:\n",
    "    \"\"\"\n",
    "    )\n",
    "\n",
    "    # Create the Langchain instance\n",
    "    chain = LLMChain(llm=llm, prompt=prompt_template)\n",
    "    \n",
    "    response = chain.run(question=question, chat_history=chat_history, context = context)\n",
    "    return response\n"
   ]
  },
  {
   "cell_type": "code",
   "execution_count": null,
   "metadata": {},
   "outputs": [],
   "source": [
    "chat_history = []\n",
    "\n",
    "def on_submit(_):\n",
    "    query = input_box.value # type: ignore\n",
    "\n",
    "    if query.lower() == 'exit':\n",
    "        print(\"Thank you for using the State of the Union chatbot!\")\n",
    "        return \n",
    "    \n",
    "    #To load model documentation\n",
    "    if len(chat_history) == 0:\n",
    "        display(widgets.HTML(f'<b><font color=\"blue\">Chatbot:</font></b> Loading the model documentation please wait...'))\n",
    "        chat_history.append((query, \"done\"))\n",
    "        load_docs()\n",
    "        display(widgets.HTML(f'<b><font color=\"blue\">Chatbot:</font></b> Machine Learning models documentation loaded into memory!'))\n",
    "    \n",
    "    #To answer the queries made by the user\n",
    "    elif len(chat_history) != 0:\n",
    "        response = rag(chat_history, query)\n",
    "        result = response\n",
    "        \n",
    "        if result == '-1':\n",
    "            display(widgets.HTML(f'<b>User:</b> {query}'))\n",
    "            display(widgets.HTML(f'<b><font color=\"blue\">Chatbot:</font></b> Building model please wait...'))\n",
    "            chat_history.append((query, 'building model please wait'))\n",
    "            data_dict = parse_json_garbage(chat_history[-2][-1])\n",
    "            print(data_dict)\n",
    "            json_file_path = \"./JSONs/sample.json\"\n",
    "            with open(json_file_path, 'w') as json_file:\n",
    "                json.dump(data_dict, json_file,indent=2)\n",
    "            result = runner(\"sample.json\",\"model_parameters.json\")\n",
    "            acc = result['acc']\n",
    "            cr = result['cr']\n",
    "            cm = result['cm']\n",
    "            bp = result['paramters']\n",
    "        \n",
    "            result = 'The following are the model params and evaluation metrics ' + str(result)\n",
    "        \n",
    "            chat_history.append((query, result))\n",
    "            display(widgets.HTML(f'<b><font color=\"blue\">Chatbot:</font></b> The parameters used are: {bp}'))\n",
    "            display(widgets.HTML(f'<b><font color=\"blue\">Chatbot:</font></b> The accuracy of the model is {acc}'))\n",
    "        \n",
    "            display(widgets.HTML(f'<b><font color=\"blue\">Chatbot:</font></b> The classification report of the model is {cr}'))\n",
    "            display(widgets.HTML(f'<b><font color=\"blue\">Chatbot:</font></b> The confusion matrix of the model is {sns.heatmap(cm, annot=True)}'))\n",
    "\n",
    "        else:\n",
    "            chat_history.append((query, result))\n",
    "            display(widgets.HTML(f'<b>User:</b> {query}'))\n",
    "            display(widgets.HTML(f'<b><font color=\"blue\">Chatbot:</font></b> {result}'))\n",
    "    \n",
    "    input_box.value = \"\" # type: ignore"
   ]
  },
  {
   "cell_type": "code",
   "execution_count": null,
   "metadata": {
    "scrolled": false
   },
   "outputs": [
    {
     "name": "stdout",
     "output_type": "stream",
     "text": [
      "Welcome to the Transformers chatbot! Type done when you want run the model. Type 'exit' to stop.\n"
     ]
    },
    {
     "data": {
      "application/vnd.jupyter.widget-view+json": {
       "model_id": "7e09f6f30dd84bf5a8be06077f7464f2",
       "version_major": 2,
       "version_minor": 0
      },
      "text/plain": [
       "Text(value='', placeholder='Please enter your question:')"
      ]
     },
     "metadata": {},
     "output_type": "display_data"
    },
    {
     "data": {
      "application/vnd.jupyter.widget-view+json": {
       "model_id": "d854d2fa8c4c409caa4b428c64fd0913",
       "version_major": 2,
       "version_minor": 0
      },
      "text/plain": [
       "HTML(value='<b><font color=\"blue\">Chatbot:</font></b> Loading the model documentation please wait...')"
      ]
     },
     "metadata": {},
     "output_type": "display_data"
    },
    {
     "data": {
      "application/vnd.jupyter.widget-view+json": {
       "model_id": "e3024badf6c444799ff50b44564d3779",
       "version_major": 2,
       "version_minor": 0
      },
      "text/plain": [
       "HTML(value='<b><font color=\"blue\">Chatbot:</font></b> Machine Learning models documentation loaded into memory…"
      ]
     },
     "metadata": {},
     "output_type": "display_data"
    },
    {
     "data": {
      "application/vnd.jupyter.widget-view+json": {
       "model_id": "21e24b689c4f4d51b874a13514520dde",
       "version_major": 2,
       "version_minor": 0
      },
      "text/plain": [
       "HTML(value='<b>User:</b> what are the parameters of svm?')"
      ]
     },
     "metadata": {},
     "output_type": "display_data"
    },
    {
     "data": {
      "application/vnd.jupyter.widget-view+json": {
       "model_id": "6df0c747c0fe41aa8e8e0dc92284ae86",
       "version_major": 2,
       "version_minor": 0
      },
      "text/plain": [
       "HTML(value='<b><font color=\"blue\">Chatbot:</font></b> The parameters of SVM (Support Vector Machine) in sklear…"
      ]
     },
     "metadata": {},
     "output_type": "display_data"
    },
    {
     "data": {
      "application/vnd.jupyter.widget-view+json": {
       "model_id": "4920152b43e249a8bc6bb7502a919675",
       "version_major": 2,
       "version_minor": 0
      },
      "text/plain": [
       "HTML(value='<b>User:</b> ')"
      ]
     },
     "metadata": {},
     "output_type": "display_data"
    },
    {
     "data": {
      "application/vnd.jupyter.widget-view+json": {
       "model_id": "9a4a5cf5dad042a48750bb45d33364da",
       "version_major": 2,
       "version_minor": 0
      },
      "text/plain": [
       "HTML(value='<b><font color=\"blue\">Chatbot:</font></b> 1')"
      ]
     },
     "metadata": {},
     "output_type": "display_data"
    },
    {
     "data": {
      "application/vnd.jupyter.widget-view+json": {
       "model_id": "f848d105c64249798342483b09d4f905",
       "version_major": 2,
       "version_minor": 0
      },
      "text/plain": [
       "HTML(value='<b>User:</b> train an svm model on churn.csv model with C=10, kernel = linear and target_variable …"
      ]
     },
     "metadata": {},
     "output_type": "display_data"
    },
    {
     "data": {
      "application/vnd.jupyter.widget-view+json": {
       "model_id": "a5c5d975cd6f46f0b538863e4b305501",
       "version_major": 2,
       "version_minor": 0
      },
      "text/plain": [
       "HTML(value='<b><font color=\"blue\">Chatbot:</font></b> {\\n    \"filename\": \"churn.csv\",\\n    \"model_name\": \"svm\"…"
      ]
     },
     "metadata": {},
     "output_type": "display_data"
    },
    {
     "data": {
      "application/vnd.jupyter.widget-view+json": {
       "model_id": "72edba5e46bf4610bdc8437a9f54d5b9",
       "version_major": 2,
       "version_minor": 0
      },
      "text/plain": [
       "HTML(value='<b>User:</b> change split to 0.4')"
      ]
     },
     "metadata": {},
     "output_type": "display_data"
    },
    {
     "data": {
      "application/vnd.jupyter.widget-view+json": {
       "model_id": "94bfaea91798481c96283c3cf54fe045",
       "version_major": 2,
       "version_minor": 0
      },
      "text/plain": [
       "HTML(value='<b><font color=\"blue\">Chatbot:</font></b> {\\n    \"filename\": \"churn.csv\",\\n    \"model_name\": \"svm\"…"
      ]
     },
     "metadata": {},
     "output_type": "display_data"
    },
    {
     "data": {
      "application/vnd.jupyter.widget-view+json": {
       "model_id": "841052e142c446cd95b03e3af0801193",
       "version_major": 2,
       "version_minor": 0
      },
      "text/plain": [
       "HTML(value='<b>User:</b> train model')"
      ]
     },
     "metadata": {},
     "output_type": "display_data"
    },
    {
     "data": {
      "application/vnd.jupyter.widget-view+json": {
       "model_id": "4668b11d41fd49008dd6becaa91477e3",
       "version_major": 2,
       "version_minor": 0
      },
      "text/plain": [
       "HTML(value='<b><font color=\"blue\">Chatbot:</font></b> Building model please wait...')"
      ]
     },
     "metadata": {},
     "output_type": "display_data"
    },
    {
     "data": {
      "application/vnd.jupyter.widget-view+json": {
       "model_id": "36baed944a504a28a08f4b8e1152a6ac",
       "version_major": 2,
       "version_minor": 0
      },
      "text/plain": [
       "HTML(value='<b><font color=\"blue\">Chatbot:</font></b> The parameters used are: {\\'C\\': 10, \\'kernel\\': \\'linea…"
      ]
     },
     "metadata": {},
     "output_type": "display_data"
    },
    {
     "data": {
      "application/vnd.jupyter.widget-view+json": {
       "model_id": "6e9d8ca8fc58420ba6212a45cbac9540",
       "version_major": 2,
       "version_minor": 0
      },
      "text/plain": [
       "HTML(value='<b><font color=\"blue\">Chatbot:</font></b> The accuracy of the model is 0.7975')"
      ]
     },
     "metadata": {},
     "output_type": "display_data"
    },
    {
     "data": {
      "application/vnd.jupyter.widget-view+json": {
       "model_id": "0091432d80524804a458fd0d10d2a509",
       "version_major": 2,
       "version_minor": 0
      },
      "text/plain": [
       "HTML(value='<b><font color=\"blue\">Chatbot:</font></b> The classification report of the model is               …"
      ]
     },
     "metadata": {},
     "output_type": "display_data"
    },
    {
     "data": {
      "application/vnd.jupyter.widget-view+json": {
       "model_id": "dc3208b3a4e247c680adf590cb0b0c3f",
       "version_major": 2,
       "version_minor": 0
      },
      "text/plain": [
       "HTML(value='<b><font color=\"blue\">Chatbot:</font></b> The confusion matrix of the model is Axes(0.125,0.11;0.6…"
      ]
     },
     "metadata": {},
     "output_type": "display_data"
    },
    {
     "data": {
      "image/png": "[encoded data removed]",
      "text/plain": [
       "<Figure size 640x480 with 2 Axes>"
      ]
     },
     "metadata": {},
     "output_type": "display_data"
    }
   ],
   "source": [
    "print(\"Welcome to the Transformers chatbot! Type done when you want run the model. Type 'exit' to stop.\")\n",
    "\n",
    "input_box = widgets.Text(placeholder='Please enter your question:')\n",
    "input_box.on_submit(on_submit)\n",
    "\n",
    "display(input_box)"
   ]
  },
  {
   "cell_type": "code",
   "execution_count": 16,
   "metadata": {},
   "outputs": [
    {
     "data": {
      "text/plain": [
       "[('what is svm parameters?', 'done'),\n",
       " ('what are the parameters of svm?',\n",
       "  'The parameters of SVM (Support Vector Machine) in sklearn are:\\n- C\\n- kernel\\n- degree\\n- gamma\\n- coef0\\n- shrinking\\n- probability\\n- tol\\n- cache_size\\n- class_weight\\n- verbose\\n- max_iter\\n- decision_function_shape\\n- break_ties\\n- random_state\\n\\nIf you need more specific details on any of these parameters, feel free to ask!'),\n",
       " ('', '1'),\n",
       " ('train an svm model on churn.csv model with C=10, kernel = linear and target_variable = Exited',\n",
       "  '{\\n    \"filename\": \"churn.csv\",\\n    \"model_name\": \"svm\",\\n    \"param\": {\\n        \"C\": 10,\\n        \"kernel\": \"linear\"\\n    },\\n    \"target_variable\": \"Exited\",\\n    \"split\": 0.2,\\n    \"flag\": 0\\n}'),\n",
       " ('change split to 0.4',\n",
       "  '{\\n    \"filename\": \"churn.csv\",\\n    \"model_name\": \"svm\",\\n    \"param\": {\\n        \"C\": 10,\\n        \"kernel\": \"linear\"\\n    },\\n    \"target_variable\": \"Exited\",\\n    \"split\": 0.4,\\n    \"flag\": 0\\n}'),\n",
       " ('train model', 'building model please wait'),\n",
       " ('train model',\n",
       "  'The following are the model params and evaluation metrics {\\'acc\\': 0.7975, \\'cr\\': \\'              precision    recall  f1-score   support\\\\n\\\\n           0       0.80      1.00      0.89      3190\\\\n           1       0.00      0.00      0.00       810\\\\n\\\\n    accuracy                           0.80      4000\\\\n   macro avg       0.40      0.50      0.44      4000\\\\nweighted avg       0.64      0.80      0.71      4000\\\\n\\', \\'cm\\': array([[3190,    0],\\n       [ 810,    0]]), \\'paramters\\': \"{\\'C\\': 10, \\'kernel\\': \\'linear\\'}\"}')]"
      ]
     },
     "execution_count": 16,
     "metadata": {},
     "output_type": "execute_result"
    }
   ],
   "source": [
    "chat_history"
   ]
  },
  {
   "cell_type": "code",
   "execution_count": null,
   "metadata": {},
   "outputs": [],
   "source": []
  }
 ],
 "metadata": {
  "kernelspec": {
   "display_name": "automl",
   "language": "python",
   "name": "python3"
  },
  "language_info": {
   "codemirror_mode": {
    "name": "ipython",
    "version": 3
   },
   "file_extension": ".py",
   "mimetype": "text/x-python",
   "name": "python",
   "nbconvert_exporter": "python",
   "pygments_lexer": "ipython3",
   "version": "3.10.18"
  }
 },
 "nbformat": 4,
 "nbformat_minor": 2
}
